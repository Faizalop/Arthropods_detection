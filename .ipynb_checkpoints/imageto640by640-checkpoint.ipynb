{
 "cells": [
  {
   "cell_type": "code",
   "execution_count": 1,
   "id": "4c606fe3",
   "metadata": {},
   "outputs": [],
   "source": [
    "from PIL import Image"
   ]
  },
  {
   "cell_type": "code",
   "execution_count": 2,
   "id": "642f56ed",
   "metadata": {},
   "outputs": [],
   "source": [
    "def split_image(image_path, output_folder, tile_size=640, overlap=0):\n",
    "    img = Image.open(image_path)\n",
    "    width, height = img.size\n",
    "\n",
    "    print(f\"Image dimensions: {width} x {height}\")\n",
    "\n",
    "    # Calculate the number of tiles in each dimension\n",
    "    num_horizontal_tiles = (width - tile_size) // (tile_size - overlap) + 1\n",
    "    num_vertical_tiles = (height - tile_size) // (tile_size - overlap) + 1\n",
    "\n",
    "    print(f\"Number of horizontal tiles: {num_horizontal_tiles}\")\n",
    "    print(f\"Number of vertical tiles: {num_vertical_tiles}\")\n",
    "\n",
    "    for r in range(num_vertical_tiles):\n",
    "        for c in range(num_horizontal_tiles):\n",
    "            left = c * (tile_size - overlap)\n",
    "            top = r * (tile_size - overlap)\n",
    "            right = min(left + tile_size, width)\n",
    "            bottom = min(top + tile_size, height)\n",
    "\n",
    "            tile = img.crop((left, top, right, bottom))\n",
    "            tile.save(f\"{output_folder}/tile_{r}_{c}.jpg\")\n"
   ]
  },
  {
   "cell_type": "code",
   "execution_count": 3,
   "id": "bceaee32",
   "metadata": {},
   "outputs": [
    {
     "name": "stdout",
     "output_type": "stream",
     "text": [
      "Image dimensions: 2991 x 3009\n",
      "Number of horizontal tiles: 5\n",
      "Number of vertical tiles: 5\n"
     ]
    }
   ],
   "source": [
    "split_image(\"VishantPXL_20240202_190444747.jpg\", \"Output_folder_9431\", tile_size=640, overlap=100)"
   ]
  },
  {
   "cell_type": "code",
   "execution_count": 16,
   "id": "984e7ff1",
   "metadata": {},
   "outputs": [
    {
     "name": "stdout",
     "output_type": "stream",
     "text": [
      "Image dimensions: 3016 x 3024\n",
      "Number of horizontal tiles: 5\n",
      "Number of vertical tiles: 5\n"
     ]
    }
   ],
   "source": [
    "split_image(\"IMG_9444.jpeg\", \"Output_folder_9444\", tile_size=640, overlap=100)"
   ]
  },
  {
   "cell_type": "code",
   "execution_count": null,
   "id": "cb320acb",
   "metadata": {},
   "outputs": [],
   "source": []
  }
 ],
 "metadata": {
  "kernelspec": {
   "display_name": "Python 3 (ipykernel)",
   "language": "python",
   "name": "python3"
  },
  "language_info": {
   "codemirror_mode": {
    "name": "ipython",
    "version": 3
   },
   "file_extension": ".py",
   "mimetype": "text/x-python",
   "name": "python",
   "nbconvert_exporter": "python",
   "pygments_lexer": "ipython3",
   "version": "3.9.12"
  }
 },
 "nbformat": 4,
 "nbformat_minor": 5
}
